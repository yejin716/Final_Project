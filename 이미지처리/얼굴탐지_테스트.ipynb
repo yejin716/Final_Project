{
  "nbformat": 4,
  "nbformat_minor": 0,
  "metadata": {
    "colab": {
      "provenance": [],
      "gpuType": "L4"
    },
    "kernelspec": {
      "name": "python3",
      "display_name": "Python 3"
    },
    "language_info": {
      "name": "python"
    },
    "accelerator": "GPU"
  },
  "cells": [
    {
      "cell_type": "code",
      "source": [
        "from google.colab import drive\n",
        "drive.mount('/content/drive')"
      ],
      "metadata": {
        "id": "vhDKJe7wb8Lv"
      },
      "execution_count": null,
      "outputs": []
    },
    {
      "cell_type": "code",
      "source": [
        "# pip install mtcnn\n",
        "# !pip install opencv-python\n",
        "!pip install matplotlib"
      ],
      "metadata": {
        "id": "c5Pcc3WLb_18"
      },
      "execution_count": null,
      "outputs": []
    },
    {
      "cell_type": "code",
      "source": [
        "from mtcnn import MTCNN\n",
        "import cv2\n",
        "import matplotlib.pyplot as plt\n",
        "\n",
        "\n",
        "image_path = '/content/drive/MyDrive/최종프로젝트/data/0002_01_F.jpg'\n",
        "image = cv2.imread(image_path)\n",
        "image_rgb = cv2.cvtColor(image, cv2.COLOR_BGR2RGB)\n",
        "\n",
        "\n",
        "detector = MTCNN()\n",
        "\n",
        "\n",
        "faces = detector.detect_faces(image_rgb)\n",
        "\n",
        "\n",
        "for face in faces:\n",
        "    bounding_box = face['box']\n",
        "    keypoints = face['keypoints']\n",
        "\n",
        "    # 얼굴 bounding box\n",
        "    cv2.rectangle(image_rgb,\n",
        "                  (bounding_box[0], bounding_box[1]),\n",
        "                  (bounding_box[0]+bounding_box[2], bounding_box[1] + bounding_box[3]),\n",
        "                  (0, 155, 255),\n",
        "                  2)\n",
        "\n",
        "\n",
        "    cv2.circle(image_rgb, (keypoints['left_eye']), 2, (0, 155, 255), 2)\n",
        "    cv2.circle(image_rgb, (keypoints['right_eye']), 2, (0, 155, 255), 2)\n",
        "    cv2.circle(image_rgb, (keypoints['nose']), 2, (0, 155, 255), 2)\n",
        "    cv2.circle(image_rgb, (keypoints['mouth_left']), 2, (0, 155, 255), 2)\n",
        "    cv2.circle(image_rgb, (keypoints['mouth_right']), 2, (0, 155, 255), 2)\n",
        "\n",
        "\n",
        "plt.imshow(image_rgb)\n",
        "plt.axis('off')\n",
        "plt.show()\n"
      ],
      "metadata": {
        "id": "0pz-Aykcb_z2"
      },
      "execution_count": null,
      "outputs": []
    },
    {
      "cell_type": "code",
      "source": [
        "from mtcnn import MTCNN\n",
        "import cv2\n",
        "import matplotlib.pyplot as plt\n",
        "\n",
        "# 이미지 로드\n",
        "image_path = '/content/drive/MyDrive/최종프로젝트/data/0002_01_F.jpg'\n",
        "image = cv2.imread(image_path)\n",
        "image_rgb = cv2.cvtColor(image, cv2.COLOR_BGR2RGB)\n",
        "\n",
        "# MTCNN 초기화\n",
        "detector = MTCNN()\n",
        "\n",
        "# 얼굴 탐지\n",
        "faces = detector.detect_faces(image_rgb)\n",
        "\n",
        "# 탐지 결과 출력\n",
        "for face in faces:\n",
        "    bounding_box = face['box']\n",
        "    keypoints = face['keypoints']\n",
        "\n",
        "    # 얼굴 경계 상자 그리기\n",
        "    cv2.rectangle(image_rgb,\n",
        "                  (bounding_box[0], bounding_box[1]),\n",
        "                  (bounding_box[0]+bounding_box[2], bounding_box[1] + bounding_box[3]),\n",
        "                  (0, 155, 255),\n",
        "                  2)\n",
        "\n",
        "    # 랜드마크 그리기 (크기와 색상 지정)\n",
        "    cv2.circle(image_rgb, keypoints['left_eye'], 3, (0, 255, 0), 2)  # 왼쪽 눈 (초록색)\n",
        "    cv2.circle(image_rgb, keypoints['right_eye'], 3, (255, 0, 0), 2)  # 오른쪽 눈 (파란색)\n",
        "    cv2.circle(image_rgb, keypoints['nose'], 4, (0, 0, 255), 2)  # 코 (빨간색)\n",
        "    cv2.circle(image_rgb, keypoints['mouth_left'], 3, (255, 255, 0), 2)  # 왼쪽 입 (노란색)\n",
        "    cv2.circle(image_rgb, keypoints['mouth_right'], 3, (255, 0, 255), 2)  # 오른쪽 입 (자주색)\n",
        "\n",
        "# 결과 이미지 출력\n",
        "plt.imshow(image_rgb)\n",
        "plt.axis('off')\n",
        "plt.show()\n"
      ],
      "metadata": {
        "id": "zpT59Gmdb_xy"
      },
      "execution_count": null,
      "outputs": []
    },
    {
      "cell_type": "code",
      "source": [
        "pip install mediapipe"
      ],
      "metadata": {
        "id": "N_lDxS0ftbar"
      },
      "execution_count": null,
      "outputs": []
    },
    {
      "cell_type": "code",
      "source": [
        "import cv2\n",
        "import mediapipe as mp\n",
        "import matplotlib.pyplot as plt\n",
        "\n",
        "# MediaPipe Face Mesh 모듈 초기화\n",
        "mp_face_mesh = mp.solutions.face_mesh\n",
        "mp_drawing = mp.solutions.drawing_utils\n",
        "\n",
        "# 이미지 로드\n",
        "image_path = '/content/drive/MyDrive/최종프로젝트/data/0002_01_F.jpg'\n",
        "image = cv2.imread(image_path)\n",
        "\n",
        "# 이미지가 로드되지 않을 경우\n",
        "if image is None:\n",
        "    raise Exception(\"이미지를 로드할 수 없습니다. 경로를 확인하세요.\")\n",
        "\n",
        "# 이미지를 RGB로 변환\n",
        "image_rgb = cv2.cvtColor(image, cv2.COLOR_BGR2RGB)\n",
        "\n",
        "# Face Mesh 처리\n",
        "with mp_face_mesh.FaceMesh(static_image_mode=True, max_num_faces=1, refine_landmarks=True, min_detection_confidence=0.5) as face_mesh:\n",
        "    results = face_mesh.process(image_rgb)\n",
        "\n",
        "# 결과에서 얼굴 랜드마크 추출\n",
        "if results.multi_face_landmarks:\n",
        "    for face_landmarks in results.multi_face_landmarks:\n",
        "        # 랜드마크 그리기\n",
        "        mp_drawing.draw_landmarks(\n",
        "            image=image,\n",
        "            landmark_list=face_landmarks,\n",
        "            connections=mp_face_mesh.FACEMESH_TESSELATION,\n",
        "            landmark_drawing_spec=mp_drawing.DrawingSpec(color=(0, 255, 0), thickness=1, circle_radius=1),\n",
        "            connection_drawing_spec=mp_drawing.DrawingSpec(color=(0, 255, 255), thickness=1, circle_radius=1)\n",
        "        )\n",
        "\n",
        "        # 이마, 볼, 턱 영역 추출\n",
        "        landmarks = face_landmarks.landmark\n",
        "\n",
        "        # 이마는 대략적으로 눈썹 위쪽 랜드마크의 평균 위치\n",
        "        forehead_landmarks = [landmarks[i] for i in [10, 338, 297, 332, 284]]\n",
        "        forehead_x = int(sum([lm.x for lm in forehead_landmarks]) / len(forehead_landmarks) * image.shape[1])\n",
        "        forehead_y = int(sum([lm.y for lm in forehead_landmarks]) / len(forehead_landmarks) * image.shape[0])\n",
        "        cv2.circle(image, (forehead_x, forehead_y), 5, (255, 0, 0), -1)\n",
        "\n",
        "        # 볼은 각각 왼쪽과 오른쪽의 중앙 랜드마크\n",
        "        left_cheek_landmarks = [landmarks[i] for i in [234, 93, 132, 58, 172]]\n",
        "        right_cheek_landmarks = [landmarks[i] for i in [454, 323, 361, 288, 397]]\n",
        "\n",
        "        left_cheek_x = int(sum([lm.x for lm in left_cheek_landmarks]) / len(left_cheek_landmarks) * image.shape[1])\n",
        "        left_cheek_y = int(sum([lm.y for lm in left_cheek_landmarks]) / len(left_cheek_landmarks) * image.shape[0])\n",
        "        cv2.circle(image, (left_cheek_x, left_cheek_y), 5, (0, 255, 0), -1)\n",
        "\n",
        "        right_cheek_x = int(sum([lm.x for lm in right_cheek_landmarks]) / len(right_cheek_landmarks) * image.shape[1])\n",
        "        right_cheek_y = int(sum([lm.y for lm in right_cheek_landmarks]) / len(right_cheek_landmarks) * image.shape[0])\n",
        "        cv2.circle(image, (right_cheek_x, right_cheek_y), 5, (0, 255, 0), -1)\n",
        "\n",
        "        # 턱은 중앙 아래 랜드마크\n",
        "        chin_landmarks = [landmarks[i] for i in [152]]\n",
        "        chin_x = int(chin_landmarks[0].x * image.shape[1])\n",
        "        chin_y = int(chin_landmarks[0].y * image.shape[0])\n",
        "        cv2.circle(image, (chin_x, chin_y), 5, (0, 0, 255), -1)\n",
        "\n",
        "# 이미지 출력\n",
        "image_rgb = cv2.cvtColor(image, cv2.COLOR_BGR2RGB)\n",
        "plt.imshow(image_rgb)\n",
        "plt.axis('off')\n",
        "plt.show()\n"
      ],
      "metadata": {
        "id": "Frpqta7etbY0"
      },
      "execution_count": null,
      "outputs": []
    },
    {
      "cell_type": "markdown",
      "source": [
        "Mediapipe\n",
        "\n",
        "-직접 부위 위치를 설정해줘야함"
      ],
      "metadata": {
        "id": "pzsDGEf1z2-3"
      }
    },
    {
      "cell_type": "code",
      "source": [
        "import cv2\n",
        "import mediapipe as mp\n",
        "import matplotlib.pyplot as plt\n",
        "\n",
        "# MediaPipe Face Mesh 모듈 초기화\n",
        "mp_face_mesh = mp.solutions.face_mesh\n",
        "mp_drawing = mp.solutions.drawing_utils\n",
        "\n",
        "# 이미지 로드\n",
        "image_path = '/content/drive/MyDrive/최종프로젝트/data/0002_01_F.jpg'\n",
        "image = cv2.imread(image_path)\n",
        "\n",
        "# 이미지가 로드되지 않을 경우\n",
        "if image is None:\n",
        "    raise Exception(\"이미지를 로드할 수 없습니다. 경로를 확인하세요.\")\n",
        "\n",
        "# 이미지를 RGB로 변환\n",
        "image_rgb = cv2.cvtColor(image, cv2.COLOR_BGR2RGB)\n",
        "\n",
        "# Face Mesh 처리\n",
        "with mp_face_mesh.FaceMesh(static_image_mode=True, max_num_faces=1, refine_landmarks=True, min_detection_confidence=0.5) as face_mesh:\n",
        "    results = face_mesh.process(image_rgb)\n",
        "\n",
        "# 결과에서 얼굴 랜드마크 추출\n",
        "if results.multi_face_landmarks:\n",
        "    for face_landmarks in results.multi_face_landmarks:\n",
        "        landmarks = face_landmarks.landmark\n",
        "\n",
        "        # 이마 영역 설정 (눈썹 위쪽)\n",
        "        forehead_indices = [10, 338, 297, 332, 284]\n",
        "        forehead_points = [(landmarks[i].x, landmarks[i].y) for i in forehead_indices]\n",
        "        forehead_x_min = int(min([p[0] for p in forehead_points]) * image.shape[1])\n",
        "        forehead_x_max = int(max([p[0] for p in forehead_points]) * image.shape[1])\n",
        "        forehead_y_min = int(min([p[1] for p in forehead_points]) * image.shape[0]) - 40\n",
        "        forehead_y_max = int(max([p[1] for p in forehead_points]) * image.shape[0])\n",
        "\n",
        "        cv2.rectangle(image, (forehead_x_min, forehead_y_min), (forehead_x_max, forehead_y_max), (255, 0, 0), 2)\n",
        "\n",
        "        # 왼쪽 볼 영역 설정\n",
        "        left_cheek_indices = [234, 93, 132, 58, 172]\n",
        "        left_cheek_points = [(landmarks[i].x, landmarks[i].y) for i in left_cheek_indices]\n",
        "        left_cheek_x_min = int(min([p[0] for p in left_cheek_points]) * image.shape[1])\n",
        "        left_cheek_x_max = int(max([p[0] for p in left_cheek_points]) * image.shape[1])\n",
        "        left_cheek_y_min = int(min([p[1] for p in left_cheek_points]) * image.shape[0])\n",
        "        left_cheek_y_max = int(max([p[1] for p in left_cheek_points]) * image.shape[0])\n",
        "\n",
        "        cv2.rectangle(image, (left_cheek_x_min, left_cheek_y_min), (left_cheek_x_max, left_cheek_y_max), (0, 255, 0), 2)\n",
        "\n",
        "        # 오른쪽 볼 영역 설정\n",
        "        right_cheek_indices = [454, 323, 361, 288, 397]\n",
        "        right_cheek_points = [(landmarks[i].x, landmarks[i].y) for i in right_cheek_indices]\n",
        "        right_cheek_x_min = int(min([p[0] for p in right_cheek_points]) * image.shape[1])\n",
        "        right_cheek_x_max = int(max([p[0] for p in right_cheek_points]) * image.shape[1])\n",
        "        right_cheek_y_min = int(min([p[1] for p in right_cheek_points]) * image.shape[0])\n",
        "        right_cheek_y_max = int(max([p[1] for p in right_cheek_points]) * image.shape[0])\n",
        "\n",
        "        cv2.rectangle(image, (right_cheek_x_min, right_cheek_y_min), (right_cheek_x_max, right_cheek_y_max), (0, 255, 0), 2)\n",
        "\n",
        "# 이미지 출력\n",
        "image_rgb = cv2.cvtColor(image, cv2.COLOR_BGR2RGB)\n",
        "plt.imshow(image_rgb)\n",
        "plt.axis('off')\n",
        "plt.show()\n"
      ],
      "metadata": {
        "id": "-3YvxmENtbWw"
      },
      "execution_count": null,
      "outputs": []
    },
    {
      "cell_type": "code",
      "source": [
        "pip install opencv-python"
      ],
      "metadata": {
        "id": "dCi3pfD2wGCS"
      },
      "execution_count": null,
      "outputs": []
    },
    {
      "cell_type": "code",
      "source": [
        "import torch\n",
        "import cv2\n",
        "import matplotlib.pyplot as plt\n",
        "\n",
        "# YOLOv5 모델 로드 (사전 학습된 모델을 사용)\n",
        "model = torch.hub.load('ultralytics/yolov5', 'yolov5s', pretrained=True)"
      ],
      "metadata": {
        "id": "hIb7kG-mwUHS"
      },
      "execution_count": null,
      "outputs": []
    },
    {
      "cell_type": "code",
      "source": [
        "import torch\n",
        "import cv2\n",
        "import matplotlib.pyplot as plt\n",
        "\n",
        "# YOLOv5 모델 로드 (사전 학습된 모델 사용)\n",
        "model = torch.hub.load('ultralytics/yolov5', 'yolov5s', pretrained=True)\n",
        "\n",
        "# 이미지 경로 설정\n",
        "image_path = '/content/drive/MyDrive/최종프로젝트/data/0002_01_F.jpg'\n",
        "\n",
        "# 이미지 로드\n",
        "image = cv2.imread(image_path)\n",
        "if image is None:\n",
        "    raise Exception(\"이미지를 로드할 수 없습니다. 경로를 확인하세요.\")\n",
        "\n",
        "# 이미지 크기 조정\n",
        "image_rgb = cv2.cvtColor(image, cv2.COLOR_BGR2RGB)\n",
        "\n",
        "# 모델 추론\n",
        "results = model(image_rgb)\n",
        "\n",
        "# 결과 정보 얻기\n",
        "results.print()\n",
        "\n",
        "# 탐지된 객체를 이미지에 그리기\n",
        "results.render('/content/drive/MyDrive/최종프로젝트/data')  # 이 함수는 results.ims에 변환된 이미지를 저장\n",
        "\n",
        "# 변환된 이미지 출력\n",
        "for img in results.ims:\n",
        "    plt.imshow(img)\n",
        "    plt.axis('off')\n",
        "    plt.show()\n",
        "\n"
      ],
      "metadata": {
        "id": "l8NE9bbkvHhx"
      },
      "execution_count": null,
      "outputs": []
    },
    {
      "cell_type": "code",
      "source": [],
      "metadata": {
        "id": "TEeCH7iTvnJc"
      },
      "execution_count": null,
      "outputs": []
    },
    {
      "cell_type": "code",
      "source": [],
      "metadata": {
        "id": "9ATFqJAfvnHG"
      },
      "execution_count": null,
      "outputs": []
    },
    {
      "cell_type": "code",
      "source": [],
      "metadata": {
        "id": "U1GaOdxkvnDg"
      },
      "execution_count": null,
      "outputs": []
    },
    {
      "cell_type": "code",
      "source": [],
      "metadata": {
        "id": "PysJpihDvnBn"
      },
      "execution_count": null,
      "outputs": []
    }
  ]
}