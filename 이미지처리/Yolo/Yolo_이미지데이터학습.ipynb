{
  "cells": [
    {
      "cell_type": "code",
      "execution_count": null,
      "metadata": {
        "id": "bqLmbU1CAad6"
      },
      "outputs": [],
      "source": [
        "from google.colab import drive\n",
        "drive.mount('/content/drive')"
      ]
    },
    {
      "cell_type": "markdown",
      "metadata": {
        "id": "zr5NSIDuGMrl"
      },
      "source": [
        "json >> yolo형식에 맞는 txt형식으로 변환"
      ]
    },
    {
      "cell_type": "markdown",
      "metadata": {
        "id": "4Ebzfpx3HzU9"
      },
      "source": [
        "class id x y width height"
      ]
    },
    {
      "cell_type": "code",
      "execution_count": null,
      "metadata": {
        "id": "-HaKFSeGGQKk"
      },
      "outputs": [],
      "source": [
        "import json\n",
        "import os\n",
        "import glob\n",
        "\n",
        "# JSON 파일들이 있는 디렉토리\n",
        "json_dir = '/content/drive/MyDrive/Final_project/image_detect/dataset/val/json'  # JSON 파일들이 있는 디렉토리 경로\n",
        "# YOLO 형식 라벨을 저장할 디렉토리\n",
        "labels_dir = '/content/drive/MyDrive/Final_project/image_detect/dataset/val/labels'  # YOLO 라벨을 저장할 디렉토리 경로\n",
        "\n",
        "# 클래스 이름을 클래스 ID로 매핑\n",
        "class_name_to_id = {\n",
        "    0: 0,  # 얼굴 전체\n",
        "    1: 1,  # 이마\n",
        "    2: 2,  # 미간\n",
        "    3: 3,  # 왼쪽 눈가\n",
        "    4: 4,  # 오른쪽 눈가\n",
        "    5: 5,  # 왼쪽 볼\n",
        "    6: 6,  # 오른쪽 볼\n",
        "    7: 7,  # 입술\n",
        "    8: 8,  # 턱\n",
        "}\n",
        "\n",
        "# YOLO 형식으로 변환 함수\n",
        "def convert_to_yolo_format(image_width, image_height, bbox):\n",
        "    if bbox is None or len(bbox) != 4:\n",
        "        raise ValueError(\"Invalid bounding box format. Expected [x_min, y_min, width, height].\")\n",
        "    x_min, y_min, x_max, y_max = bbox\n",
        "\n",
        "    # x_min = max(0, min(x_min, image_width))\n",
        "    # y_min = max(0, min(y_min, image_height))\n",
        "    # x_max = max(0, min(x_min + width, image_width))\n",
        "    # y_max = max(0, min(y_min + height, image_height))\n",
        "\n",
        "    width = (x_max - x_min)\n",
        "    height = (y_max - y_min)\n",
        "\n",
        "    x_center = ((x_min + width / 2)) / image_width\n",
        "    y_center = ((y_min + height / 2)) / image_height\n",
        "    width /= image_width\n",
        "    height /= image_height\n",
        "    return x_center, y_center, width, height\n",
        "\n",
        "# YOLO 라벨 저장 디렉토리가 없으면 생성\n",
        "os.makedirs(labels_dir, exist_ok=True)\n",
        "\n",
        "# 각 각도에 대한 통합된 YOLO 파일 생성\n",
        "angle_to_image_labels = {0: {}, 7: {}, 8: {}}\n",
        "\n",
        "# JSON 파일들을 순회\n",
        "for json_file_path in glob.glob(os.path.join(json_dir, '*.json')):\n",
        "    # JSON 파일 읽기\n",
        "    with open(json_file_path, 'r') as f:\n",
        "        data = json.load(f)\n",
        "\n",
        "    # 이미지 메타데이터 추출\n",
        "    image_info = data['info']\n",
        "    image_filename = image_info['filename']\n",
        "    image_width = data['images']['width']\n",
        "    image_height = data['images']['height']\n",
        "    bbox = data['images'].get('bbox', None)  # bbox가 None일 수 있으므로 예외 처리\n",
        "    angle = data['images']['angle']\n",
        "    facepart = data['images']['facepart']\n",
        "\n",
        "    # 클래스 ID 추출\n",
        "    class_id = class_name_to_id.get(facepart, None)\n",
        "\n",
        "    # 바운딩 박스를 YOLO 형식으로 변환\n",
        "    if class_id is not None and bbox is not None and angle in angle_to_image_labels:\n",
        "        try:\n",
        "            x_center, y_center, width, height = convert_to_yolo_format(image_width, image_height, bbox)\n",
        "            yolo_label = f\"{class_id} {x_center} {y_center} {width} {height}\\n\"\n",
        "\n",
        "            # 각 각도에 대해 이미지 라벨 통합\n",
        "            if image_filename not in angle_to_image_labels[angle]:\n",
        "                angle_to_image_labels[angle][image_filename] = []\n",
        "            angle_to_image_labels[angle][image_filename].append(yolo_label)\n",
        "        except ValueError as e:\n",
        "            print(f\"Error processing file {json_file_path}: {e}\")\n",
        "\n",
        "# 각 각도에 대한 YOLO 라벨 파일 작성\n",
        "for angle, images in angle_to_image_labels.items():\n",
        "    for image_filename, labels in images.items():\n",
        "        yolo_label_path = os.path.join(labels_dir, f\"{os.path.splitext(image_filename)[0]}.txt\")\n",
        "        with open(yolo_label_path, 'w') as label_file:\n",
        "            label_file.writelines(labels)\n",
        "\n",
        "        print(f\"Saved YOLO label to {yolo_label_path}\")\n"
      ]
    },
    {
      "cell_type": "code",
      "execution_count": null,
      "metadata": {
        "id": "lVfzBhutOfwB"
      },
      "outputs": [],
      "source": [
        "# %cd /content/drive/MyDrive/최종프로젝트/이미지 처리\n",
        "# !git clone https://github.com/ultralytics/yolov5"
      ]
    },
    {
      "cell_type": "code",
      "execution_count": null,
      "metadata": {
        "id": "m6n082YXfVFL"
      },
      "outputs": [],
      "source": [
        "# %cd /content/drive/MyDrive/최종프로젝트/이미지 처리/yolov5\n",
        "# !pip install -r requirements.txt"
      ]
    },
    {
      "cell_type": "code",
      "execution_count": null,
      "metadata": {
        "id": "8n1VvanQfg3w"
      },
      "outputs": [],
      "source": [
        "%cat /content/drive/MyDrive/Final_project/image_detect/dataset/data.yaml"
      ]
    },
    {
      "cell_type": "markdown",
      "source": [
        "모델 학습"
      ],
      "metadata": {
        "id": "6hQTl5ospsXg"
      }
    },
    {
      "cell_type": "markdown",
      "source": [
        "https://github.com/ultralytics/yolov5/wiki/Train-Custom-Data"
      ],
      "metadata": {
        "id": "-DcaJ2Smaoyv"
      }
    },
    {
      "cell_type": "code",
      "execution_count": null,
      "metadata": {
        "id": "o-4uBVnlfy5D"
      },
      "outputs": [],
      "source": [
        "%cd /content/drive/MyDrive/Final_project/image_detect/yolov5\n",
        "!python train.py --img 416 --batch 16 --epochs 50 --data /content/drive/MyDrive/Final_project/image_detect/dataset/data.yaml --cfg ./models/yolov5s.yaml --weights yolov5s.pt --name team2_yolov5s_results"
      ]
    },
    {
      "cell_type": "code",
      "execution_count": null,
      "metadata": {
        "id": "dharuoYa0Xa9"
      },
      "outputs": [],
      "source": [
        "%load_ext tensorboard\n",
        "%tensorboard --logdir /content/drive/MyDrive/Final_project/image_detect/yolov5/runs/"
      ]
    },
    {
      "cell_type": "code",
      "execution_count": null,
      "metadata": {
        "id": "ORC9WOZn0450"
      },
      "outputs": [],
      "source": [
        "import cv2\n",
        "import torch\n",
        "import matplotlib.pyplot as plt\n",
        "\n",
        "# YOLOv5 모델 로드 (학습된 가중치 사용)\n",
        "model = torch.hub.load('ultralytics/yolov5', 'custom', path='/content/drive/MyDrive/Final_project/image_detect/yolov5/runs/train/team2_yolov5s_results/weights/best.pt')\n",
        "\n",
        "# 이미지 경로 설정\n",
        "image_path = '/content/drive/MyDrive/Final_project/image_detect/dataset/myface.jpg'  # 테스트할 이미지 파일 경로\n",
        "\n",
        "# 이미지 로드 (OpenCV 사용)\n",
        "image = cv2.imread(image_path)\n",
        "if image is None:\n",
        "    raise ValueError(f\"Image not found or unable to open: {image_path}\")\n",
        "\n",
        "# 이미지 크기 조정\n",
        "new_width, new_height = 480, 600\n",
        "resized_image = cv2.resize(image, (new_width, new_height))\n",
        "\n",
        "# BGR 이미지를 RGB로 변환\n",
        "image_rgb = cv2.cvtColor(resized_image, cv2.COLOR_BGR2RGB)\n",
        "\n",
        "# 이미지 탐지\n",
        "results = model(image_rgb)\n",
        "\n",
        "# 결과 시각화\n",
        "results.print()  # 탐지 결과 출력\n",
        "results.show()   # 탐지된 이미지 시각화\n",
        "\n",
        "# 결과 이미지 저장\n",
        "output_path = '/content/drive/MyDrive/Final_project/image_detect/dataset/save_image/label_image.jpg'\n",
        "cv2.imwrite(output_path, image_rgb)\n",
        "\n",
        "# 이미지 출력 (matplotlib 사용)\n",
        "plt.imshow(image_rgb)\n",
        "plt.axis('off')\n",
        "plt.show()\n",
        "\n"
      ]
    },
    {
      "cell_type": "code",
      "source": [
        "import cv2\n",
        "import torch\n",
        "import matplotlib.pyplot as plt\n",
        "import numpy as np\n",
        "\n",
        "# YOLOv5 모델 로드 (학습된 가중치 사용)\n",
        "model = torch.hub.load('ultralytics/yolov5', 'custom', path='/content/drive/MyDrive/Final_project/image_detect/yolov5/runs/train/team2_yolov5s_results/weights/best.pt')\n",
        "\n",
        "# 이미지 경로 설정\n",
        "image_path = '/content/drive/MyDrive/Final_project/image_detect/dataset/myface.jpg'  # 테스트할 이미지 파일 경로\n",
        "\n",
        "# 이미지 로드 (OpenCV 사용)\n",
        "image = cv2.imread(image_path)\n",
        "if image is None:\n",
        "    raise ValueError(f\"Image not found or unable to open: {image_path}\")\n",
        "\n",
        "# 이미지 크기 조정\n",
        "new_width, new_height = 480, 600\n",
        "resized_image = cv2.resize(image, (new_width, new_height))\n",
        "\n",
        "# BGR 이미지를 RGB로 변환\n",
        "image_rgb = cv2.cvtColor(resized_image, cv2.COLOR_BGR2RGB)\n",
        "\n",
        "# 이미지 탐지\n",
        "results = model(image_rgb)\n",
        "\n",
        "# 결과 시각화\n",
        "results.print()  # 탐지 결과 출력\n",
        "results.show()   # 탐지된 이미지 시각화\n",
        "\n",
        "# 바운딩 박스와 클래스 ID 추출 및 저장\n",
        "detection_data = results.xyxy[0].cpu().numpy()  # xyxy 포맷의 결과를 numpy 배열로 변환\n",
        "output_txt_path = '/content/drive/MyDrive/Final_project/image_detect/dataset/save_bbox/label_image.txt'\n",
        "\n",
        "with open(output_txt_path, 'w') as f:\n",
        "    for *box, conf, cls in detection_data:\n",
        "        x1, y1, x2, y2 = map(int, box)  # 바운딩 박스 좌표를 정수로 변환\n",
        "        class_id = int(cls)\n",
        "        f.write(f\"{class_id} {x1} {y1} {x2} {y2}\\n\")\n",
        "\n",
        "# 결과 이미지 저장\n",
        "output_image_path = '/content/drive/MyDrive/Final_project/image_detect/dataset/save_image/label_image.jpg'\n",
        "cv2.imwrite(output_image_path, cv2.cvtColor(image_rgb, cv2.COLOR_RGB2BGR))\n",
        "\n",
        "# 이미지 출력 (matplotlib 사용)\n",
        "plt.imshow(image_rgb)\n",
        "plt.axis('off')\n",
        "plt.show()\n"
      ],
      "metadata": {
        "id": "3uBs-IAGKY9l"
      },
      "execution_count": null,
      "outputs": []
    },
    {
      "cell_type": "code",
      "execution_count": null,
      "metadata": {
        "id": "C08Rhj-8fy3D"
      },
      "outputs": [],
      "source": [
        "import os\n",
        "\n",
        "label_dir = '/content/drive/MyDrive/Final_project/image_detect/dataset/val/labels'\n",
        "\n",
        "# 레이블 파일들 확인\n",
        "for label_file in os.listdir(label_dir):\n",
        "    with open(os.path.join(label_dir, label_file), 'r') as file:\n",
        "        for line in file:\n",
        "            values = line.strip().split()\n",
        "            if len(values) != 5:\n",
        "                print(f\"Error in file {label_file}: {line}\")"
      ]
    },
    {
      "cell_type": "markdown",
      "metadata": {
        "id": "VS06CPykx8Gl"
      },
      "source": [
        "1이 넘어가는 값이 있는지 확인"
      ]
    },
    {
      "cell_type": "code",
      "execution_count": null,
      "metadata": {
        "id": "FWW-ZU4efy1A"
      },
      "outputs": [],
      "source": [
        "import os\n",
        "\n",
        "label_dir = '/content/drive/MyDrive/Final_project/image_detect/dataset/val/labels'\n",
        "\n",
        "for label_file in os.listdir(label_dir):\n",
        "    with open(os.path.join(label_dir, label_file), 'r') as file:\n",
        "        for line in file:\n",
        "            values = line.strip().split()\n",
        "            class_id, x_center, y_center, width, height = map(float, values)\n",
        "            if not (0 <= x_center <= 1 and 0 <= y_center <= 1 and\n",
        "                    0 <= width <= 1 and 0 <= height <= 1):\n",
        "                print(f\"Out of bounds in file {label_file}: {line}\")\n"
      ]
    },
    {
      "cell_type": "code",
      "execution_count": null,
      "metadata": {
        "id": "nrpo-J5nuYEH"
      },
      "outputs": [],
      "source": []
    }
  ],
  "metadata": {
    "accelerator": "GPU",
    "colab": {
      "gpuType": "L4",
      "provenance": []
    },
    "kernelspec": {
      "display_name": "Python 3",
      "name": "python3"
    },
    "language_info": {
      "name": "python"
    }
  },
  "nbformat": 4,
  "nbformat_minor": 0
}