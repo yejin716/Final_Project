{
  "cells": [
    {
      "cell_type": "code",
      "execution_count": null,
      "metadata": {
        "id": "bqLmbU1CAad6"
      },
      "outputs": [],
      "source": [
        "from google.colab import drive\n",
        "drive.mount('/content/drive')"
      ]
    },
    {
      "cell_type": "code",
      "source": [
        "!pip install ultralytics\n",
        "!pip install torch torchvision\n"
      ],
      "metadata": {
        "id": "-1RyzMYNE7jL"
      },
      "execution_count": null,
      "outputs": []
    },
    {
      "cell_type": "code",
      "source": [
        "%cat /content/drive/MyDrive/Final_project/image_detect/dataset/data.yaml"
      ],
      "metadata": {
        "id": "IrbpBXe9FA_N"
      },
      "execution_count": null,
      "outputs": []
    },
    {
      "cell_type": "markdown",
      "source": [
        "Yolov8 가져오기"
      ],
      "metadata": {
        "id": "i7I1TrJhFlKr"
      }
    },
    {
      "cell_type": "code",
      "source": [
        "# %cd /content/drive/MyDrive/Final_project/image_detect\n",
        "# !git clone https://github.com/ultralytics/ultralytics"
      ],
      "metadata": {
        "id": "TIRKhtngFkxg"
      },
      "execution_count": null,
      "outputs": []
    },
    {
      "cell_type": "code",
      "source": [
        "#필요한 패키지 설치\n",
        "# %cd /content/drive/MyDrive/Final_project/image_detect/ultralytics\n",
        "# !pip install -e .\n"
      ],
      "metadata": {
        "id": "6XNTlm18S3q-"
      },
      "execution_count": null,
      "outputs": []
    },
    {
      "cell_type": "code",
      "source": [
        "#yolov8n.pt 파일이 생성됨\n",
        "# !yolo predict"
      ],
      "metadata": {
        "id": "YA_YIDBGUF00"
      },
      "execution_count": null,
      "outputs": []
    },
    {
      "cell_type": "markdown",
      "source": [
        "모델 학습"
      ],
      "metadata": {
        "id": "6hQTl5ospsXg"
      }
    },
    {
      "cell_type": "code",
      "source": [
        "from ultralytics import YOLO\n",
        "\n",
        "model = YOLO('yolov8n.pt')\n",
        "data_yaml = '/content/drive/MyDrive/Final_project/image_detect/dataset/data.yaml'\n",
        "model.train(data=data_yaml, epochs=100, batch=16, imgsz=416, cache=True, name='team2_yolov8n_model' )"
      ],
      "metadata": {
        "id": "LDlV2tW2WF6Z"
      },
      "execution_count": null,
      "outputs": []
    },
    {
      "cell_type": "code",
      "execution_count": null,
      "metadata": {
        "id": "dharuoYa0Xa9"
      },
      "outputs": [],
      "source": [
        "%load_ext tensorboard\n",
        "%tensorboard --logdir /content/drive/MyDrive/Final_project/image_detect/ultralytics/runs/detect/team2_yolov8n_model"
      ]
    },
    {
      "cell_type": "markdown",
      "source": [
        "모델 평가"
      ],
      "metadata": {
        "id": "pSqQNP8wmOd_"
      }
    },
    {
      "cell_type": "code",
      "source": [
        "from ultralytics import YOLO\n",
        "import cv2\n",
        "import matplotlib.pyplot as plt\n",
        "\n",
        "# 전이 학습된 YOLOv8 모델 로드 (best.pt 경로를 사용)\n",
        "model = YOLO('/content/drive/MyDrive/Final_project/image_detect/ultralytics/runs/detect/team2_yolov8n_model/weights/best.pt')  # 모델 파일 경로를 입력하세요\n",
        "\n",
        "# 평가할 이미지 로드\n",
        "image_path = '/content/drive/MyDrive/Final_project/image_detect/dataset/my_face.jpg'\n",
        "image = cv2.imread(image_path)\n",
        "\n",
        "# 이미지가 None인지 확인\n",
        "if image is None:\n",
        "    raise ValueError(f\"Image not found or unable to open: {image_path}\")\n",
        "\n",
        "# 이미지를 RGB로 변환\n",
        "image_rgb = cv2.cvtColor(image, cv2.COLOR_BGR2RGB)\n",
        "\n",
        "# 모델을 사용하여 예측\n",
        "results = model.predict(image_rgb)\n",
        "\n",
        "# 예측된 바운딩 박스를 이미지에 그리기\n",
        "for result in results:\n",
        "    for box in result.boxes.xyxy:\n",
        "        x1, y1, x2, y2 = map(int, box[:4])  # 바운딩 박스 좌표\n",
        "        cv2.rectangle(image_rgb, (x1, y1), (x2, y2), (255, 0, 0), 2)  # 빨간색 바운딩 박스\n",
        "\n",
        "# Matplotlib으로 이미지를 출력\n",
        "plt.imshow(image_rgb)\n",
        "plt.axis('off')\n",
        "plt.show()\n"
      ],
      "metadata": {
        "id": "D68AKJoLtbFx"
      },
      "execution_count": null,
      "outputs": []
    },
    {
      "cell_type": "code",
      "source": [
        "print(results[0].boxes.xyxy)  # 바운딩 박스 좌표들 출력\n"
      ],
      "metadata": {
        "id": "qgSwj0FiuVaj"
      },
      "execution_count": null,
      "outputs": []
    },
    {
      "cell_type": "code",
      "execution_count": null,
      "metadata": {
        "id": "C08Rhj-8fy3D"
      },
      "outputs": [],
      "source": [
        "import os\n",
        "\n",
        "label_dir = '/content/drive/MyDrive/Final_project/image_detect/dataset/train/labels'\n",
        "\n",
        "# 레이블 파일들 확인\n",
        "for label_file in os.listdir(label_dir):\n",
        "    with open(os.path.join(label_dir, label_file), 'r') as file:\n",
        "        for line in file:\n",
        "            values = line.strip().split()\n",
        "            if len(values) != 5:\n",
        "                print(f\"Error in file {label_file}: {line}\")"
      ]
    },
    {
      "cell_type": "markdown",
      "metadata": {
        "id": "VS06CPykx8Gl"
      },
      "source": [
        "1이 넘어가는 값이 있는지 확인"
      ]
    },
    {
      "cell_type": "code",
      "execution_count": null,
      "metadata": {
        "id": "FWW-ZU4efy1A"
      },
      "outputs": [],
      "source": [
        "import os\n",
        "\n",
        "label_dir = '/content/drive/MyDrive/Final_project/image_detect/dataset/train/labels'\n",
        "\n",
        "for label_file in os.listdir(label_dir):\n",
        "    with open(os.path.join(label_dir, label_file), 'r') as file:\n",
        "        for line in file:\n",
        "            values = line.strip().split()\n",
        "            class_id, x_center, y_center, width, height = map(float, values)\n",
        "            if not (0 <= x_center <= 1 and 0 <= y_center <= 1 and\n",
        "                    0 <= width <= 1 and 0 <= height <= 1):\n",
        "                print(f\"Out of bounds in file {label_file}: {line}\")\n"
      ]
    }
  ],
  "metadata": {
    "accelerator": "GPU",
    "colab": {
      "gpuType": "L4",
      "provenance": [],
      "machine_shape": "hm"
    },
    "kernelspec": {
      "display_name": "Python 3",
      "name": "python3"
    },
    "language_info": {
      "name": "python"
    }
  },
  "nbformat": 4,
  "nbformat_minor": 0
}